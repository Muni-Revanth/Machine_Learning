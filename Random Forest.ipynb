{
 "cells": [
  {
   "cell_type": "markdown",
   "id": "bb33d3cf",
   "metadata": {},
   "source": [
    "# Importing Necessary Libraries"
   ]
  },
  {
   "cell_type": "code",
   "execution_count": 1,
   "id": "c922e94a",
   "metadata": {},
   "outputs": [],
   "source": [
    "import pandas as pd\n",
    "import numpy as np\n",
    "import matplotlib.pyplot as plt\n",
    "import seaborn as sns"
   ]
  },
  {
   "cell_type": "code",
   "execution_count": 2,
   "id": "c83245a1",
   "metadata": {},
   "outputs": [],
   "source": [
    "import warnings\n",
    "warnings.filterwarnings(\"ignore\")"
   ]
  },
  {
   "cell_type": "markdown",
   "id": "6d9b2e48",
   "metadata": {},
   "source": [
    "# Importing Dataset"
   ]
  },
  {
   "cell_type": "code",
   "execution_count": 3,
   "id": "91fd5951",
   "metadata": {},
   "outputs": [],
   "source": [
    "train_data = pd.read_csv(\"R:\\\\GUVI\\\\Tasks\\\\Task-7\\\\Glass-KNN\\\\trainKNN.csv\")"
   ]
  },
  {
   "cell_type": "code",
   "execution_count": 4,
   "id": "fe87fcd8",
   "metadata": {},
   "outputs": [],
   "source": [
    "test_data = pd.read_csv(\"R:\\\\GUVI\\\\Tasks\\\\Task-7\\\\Glass-KNN\\\\testKNN.csv\")"
   ]
  },
  {
   "cell_type": "code",
   "execution_count": 5,
   "id": "d235ca45",
   "metadata": {},
   "outputs": [
    {
     "data": {
      "text/html": [
       "<div>\n",
       "<style scoped>\n",
       "    .dataframe tbody tr th:only-of-type {\n",
       "        vertical-align: middle;\n",
       "    }\n",
       "\n",
       "    .dataframe tbody tr th {\n",
       "        vertical-align: top;\n",
       "    }\n",
       "\n",
       "    .dataframe thead th {\n",
       "        text-align: right;\n",
       "    }\n",
       "</style>\n",
       "<table border=\"1\" class=\"dataframe\">\n",
       "  <thead>\n",
       "    <tr style=\"text-align: right;\">\n",
       "      <th></th>\n",
       "      <th>ID</th>\n",
       "      <th>RI</th>\n",
       "      <th>Na</th>\n",
       "      <th>Mg</th>\n",
       "      <th>Al</th>\n",
       "      <th>Si</th>\n",
       "      <th>K</th>\n",
       "      <th>Ca</th>\n",
       "      <th>Ba</th>\n",
       "      <th>Fe</th>\n",
       "      <th>Type of glass</th>\n",
       "    </tr>\n",
       "  </thead>\n",
       "  <tbody>\n",
       "    <tr>\n",
       "      <th>0</th>\n",
       "      <td>1</td>\n",
       "      <td>1.52101</td>\n",
       "      <td>13.64</td>\n",
       "      <td>4.49</td>\n",
       "      <td>1.10</td>\n",
       "      <td>71.78</td>\n",
       "      <td>0.06</td>\n",
       "      <td>8.75</td>\n",
       "      <td>0.00</td>\n",
       "      <td>0.0</td>\n",
       "      <td>1</td>\n",
       "    </tr>\n",
       "    <tr>\n",
       "      <th>1</th>\n",
       "      <td>2</td>\n",
       "      <td>1.51761</td>\n",
       "      <td>13.89</td>\n",
       "      <td>3.60</td>\n",
       "      <td>1.36</td>\n",
       "      <td>72.73</td>\n",
       "      <td>0.48</td>\n",
       "      <td>7.83</td>\n",
       "      <td>0.00</td>\n",
       "      <td>0.0</td>\n",
       "      <td>1</td>\n",
       "    </tr>\n",
       "    <tr>\n",
       "      <th>2</th>\n",
       "      <td>3</td>\n",
       "      <td>1.51618</td>\n",
       "      <td>13.53</td>\n",
       "      <td>3.55</td>\n",
       "      <td>1.54</td>\n",
       "      <td>72.99</td>\n",
       "      <td>0.39</td>\n",
       "      <td>7.78</td>\n",
       "      <td>0.00</td>\n",
       "      <td>0.0</td>\n",
       "      <td>1</td>\n",
       "    </tr>\n",
       "    <tr>\n",
       "      <th>3</th>\n",
       "      <td>4</td>\n",
       "      <td>1.51766</td>\n",
       "      <td>13.21</td>\n",
       "      <td>3.69</td>\n",
       "      <td>1.29</td>\n",
       "      <td>72.61</td>\n",
       "      <td>0.57</td>\n",
       "      <td>8.22</td>\n",
       "      <td>0.00</td>\n",
       "      <td>0.0</td>\n",
       "      <td>1</td>\n",
       "    </tr>\n",
       "    <tr>\n",
       "      <th>4</th>\n",
       "      <td>5</td>\n",
       "      <td>1.51742</td>\n",
       "      <td>13.27</td>\n",
       "      <td>3.62</td>\n",
       "      <td>1.24</td>\n",
       "      <td>73.08</td>\n",
       "      <td>0.55</td>\n",
       "      <td>8.07</td>\n",
       "      <td>0.00</td>\n",
       "      <td>0.0</td>\n",
       "      <td>1</td>\n",
       "    </tr>\n",
       "    <tr>\n",
       "      <th>...</th>\n",
       "      <td>...</td>\n",
       "      <td>...</td>\n",
       "      <td>...</td>\n",
       "      <td>...</td>\n",
       "      <td>...</td>\n",
       "      <td>...</td>\n",
       "      <td>...</td>\n",
       "      <td>...</td>\n",
       "      <td>...</td>\n",
       "      <td>...</td>\n",
       "      <td>...</td>\n",
       "    </tr>\n",
       "    <tr>\n",
       "      <th>191</th>\n",
       "      <td>207</td>\n",
       "      <td>1.51645</td>\n",
       "      <td>14.94</td>\n",
       "      <td>0.00</td>\n",
       "      <td>1.87</td>\n",
       "      <td>73.11</td>\n",
       "      <td>0.00</td>\n",
       "      <td>8.67</td>\n",
       "      <td>1.38</td>\n",
       "      <td>0.0</td>\n",
       "      <td>7</td>\n",
       "    </tr>\n",
       "    <tr>\n",
       "      <th>192</th>\n",
       "      <td>208</td>\n",
       "      <td>1.51831</td>\n",
       "      <td>14.39</td>\n",
       "      <td>0.00</td>\n",
       "      <td>1.82</td>\n",
       "      <td>72.86</td>\n",
       "      <td>1.41</td>\n",
       "      <td>6.47</td>\n",
       "      <td>2.88</td>\n",
       "      <td>0.0</td>\n",
       "      <td>7</td>\n",
       "    </tr>\n",
       "    <tr>\n",
       "      <th>193</th>\n",
       "      <td>209</td>\n",
       "      <td>1.51640</td>\n",
       "      <td>14.37</td>\n",
       "      <td>0.00</td>\n",
       "      <td>2.74</td>\n",
       "      <td>72.85</td>\n",
       "      <td>0.00</td>\n",
       "      <td>9.45</td>\n",
       "      <td>0.54</td>\n",
       "      <td>0.0</td>\n",
       "      <td>7</td>\n",
       "    </tr>\n",
       "    <tr>\n",
       "      <th>194</th>\n",
       "      <td>210</td>\n",
       "      <td>1.51623</td>\n",
       "      <td>14.14</td>\n",
       "      <td>0.00</td>\n",
       "      <td>2.88</td>\n",
       "      <td>72.61</td>\n",
       "      <td>0.08</td>\n",
       "      <td>9.18</td>\n",
       "      <td>1.06</td>\n",
       "      <td>0.0</td>\n",
       "      <td>7</td>\n",
       "    </tr>\n",
       "    <tr>\n",
       "      <th>195</th>\n",
       "      <td>211</td>\n",
       "      <td>1.51685</td>\n",
       "      <td>14.92</td>\n",
       "      <td>0.00</td>\n",
       "      <td>1.99</td>\n",
       "      <td>73.06</td>\n",
       "      <td>0.00</td>\n",
       "      <td>8.40</td>\n",
       "      <td>1.59</td>\n",
       "      <td>0.0</td>\n",
       "      <td>7</td>\n",
       "    </tr>\n",
       "  </tbody>\n",
       "</table>\n",
       "<p>196 rows × 11 columns</p>\n",
       "</div>"
      ],
      "text/plain": [
       "      ID       RI     Na    Mg    Al     Si     K    Ca    Ba   Fe  \\\n",
       "0      1  1.52101  13.64  4.49  1.10  71.78  0.06  8.75  0.00  0.0   \n",
       "1      2  1.51761  13.89  3.60  1.36  72.73  0.48  7.83  0.00  0.0   \n",
       "2      3  1.51618  13.53  3.55  1.54  72.99  0.39  7.78  0.00  0.0   \n",
       "3      4  1.51766  13.21  3.69  1.29  72.61  0.57  8.22  0.00  0.0   \n",
       "4      5  1.51742  13.27  3.62  1.24  73.08  0.55  8.07  0.00  0.0   \n",
       "..   ...      ...    ...   ...   ...    ...   ...   ...   ...  ...   \n",
       "191  207  1.51645  14.94  0.00  1.87  73.11  0.00  8.67  1.38  0.0   \n",
       "192  208  1.51831  14.39  0.00  1.82  72.86  1.41  6.47  2.88  0.0   \n",
       "193  209  1.51640  14.37  0.00  2.74  72.85  0.00  9.45  0.54  0.0   \n",
       "194  210  1.51623  14.14  0.00  2.88  72.61  0.08  9.18  1.06  0.0   \n",
       "195  211  1.51685  14.92  0.00  1.99  73.06  0.00  8.40  1.59  0.0   \n",
       "\n",
       "     Type of glass  \n",
       "0                1  \n",
       "1                1  \n",
       "2                1  \n",
       "3                1  \n",
       "4                1  \n",
       "..             ...  \n",
       "191              7  \n",
       "192              7  \n",
       "193              7  \n",
       "194              7  \n",
       "195              7  \n",
       "\n",
       "[196 rows x 11 columns]"
      ]
     },
     "execution_count": 5,
     "metadata": {},
     "output_type": "execute_result"
    }
   ],
   "source": [
    "train_data"
   ]
  },
  {
   "cell_type": "code",
   "execution_count": 6,
   "id": "8dfd3c4c",
   "metadata": {},
   "outputs": [
    {
     "data": {
      "text/html": [
       "<div>\n",
       "<style scoped>\n",
       "    .dataframe tbody tr th:only-of-type {\n",
       "        vertical-align: middle;\n",
       "    }\n",
       "\n",
       "    .dataframe tbody tr th {\n",
       "        vertical-align: top;\n",
       "    }\n",
       "\n",
       "    .dataframe thead th {\n",
       "        text-align: right;\n",
       "    }\n",
       "</style>\n",
       "<table border=\"1\" class=\"dataframe\">\n",
       "  <thead>\n",
       "    <tr style=\"text-align: right;\">\n",
       "      <th></th>\n",
       "      <th>ID</th>\n",
       "      <th>RI</th>\n",
       "      <th>Na</th>\n",
       "      <th>Mg</th>\n",
       "      <th>Al</th>\n",
       "      <th>Si</th>\n",
       "      <th>K</th>\n",
       "      <th>Ca</th>\n",
       "      <th>Ba</th>\n",
       "      <th>Fe</th>\n",
       "      <th>Type of glass</th>\n",
       "    </tr>\n",
       "  </thead>\n",
       "  <tbody>\n",
       "    <tr>\n",
       "      <th>0</th>\n",
       "      <td>68</td>\n",
       "      <td>1.52152</td>\n",
       "      <td>13.05</td>\n",
       "      <td>3.65</td>\n",
       "      <td>0.87</td>\n",
       "      <td>72.32</td>\n",
       "      <td>0.19</td>\n",
       "      <td>9.85</td>\n",
       "      <td>0.00</td>\n",
       "      <td>0.17</td>\n",
       "      <td>1</td>\n",
       "    </tr>\n",
       "    <tr>\n",
       "      <th>1</th>\n",
       "      <td>69</td>\n",
       "      <td>1.52152</td>\n",
       "      <td>13.12</td>\n",
       "      <td>3.58</td>\n",
       "      <td>0.90</td>\n",
       "      <td>72.20</td>\n",
       "      <td>0.23</td>\n",
       "      <td>9.82</td>\n",
       "      <td>0.00</td>\n",
       "      <td>0.16</td>\n",
       "      <td>1</td>\n",
       "    </tr>\n",
       "    <tr>\n",
       "      <th>2</th>\n",
       "      <td>70</td>\n",
       "      <td>1.52300</td>\n",
       "      <td>13.31</td>\n",
       "      <td>3.58</td>\n",
       "      <td>0.82</td>\n",
       "      <td>71.99</td>\n",
       "      <td>0.12</td>\n",
       "      <td>10.17</td>\n",
       "      <td>0.00</td>\n",
       "      <td>0.03</td>\n",
       "      <td>1</td>\n",
       "    </tr>\n",
       "    <tr>\n",
       "      <th>3</th>\n",
       "      <td>144</td>\n",
       "      <td>1.51709</td>\n",
       "      <td>13.00</td>\n",
       "      <td>3.47</td>\n",
       "      <td>1.79</td>\n",
       "      <td>72.72</td>\n",
       "      <td>0.66</td>\n",
       "      <td>8.18</td>\n",
       "      <td>0.00</td>\n",
       "      <td>0.00</td>\n",
       "      <td>2</td>\n",
       "    </tr>\n",
       "    <tr>\n",
       "      <th>4</th>\n",
       "      <td>145</td>\n",
       "      <td>1.51660</td>\n",
       "      <td>12.99</td>\n",
       "      <td>3.18</td>\n",
       "      <td>1.23</td>\n",
       "      <td>72.97</td>\n",
       "      <td>0.58</td>\n",
       "      <td>8.81</td>\n",
       "      <td>0.00</td>\n",
       "      <td>0.24</td>\n",
       "      <td>2</td>\n",
       "    </tr>\n",
       "    <tr>\n",
       "      <th>5</th>\n",
       "      <td>146</td>\n",
       "      <td>1.51839</td>\n",
       "      <td>12.85</td>\n",
       "      <td>3.67</td>\n",
       "      <td>1.24</td>\n",
       "      <td>72.57</td>\n",
       "      <td>0.62</td>\n",
       "      <td>8.68</td>\n",
       "      <td>0.00</td>\n",
       "      <td>0.35</td>\n",
       "      <td>2</td>\n",
       "    </tr>\n",
       "    <tr>\n",
       "      <th>6</th>\n",
       "      <td>161</td>\n",
       "      <td>1.51832</td>\n",
       "      <td>13.33</td>\n",
       "      <td>3.34</td>\n",
       "      <td>1.54</td>\n",
       "      <td>72.14</td>\n",
       "      <td>0.56</td>\n",
       "      <td>8.99</td>\n",
       "      <td>0.00</td>\n",
       "      <td>0.00</td>\n",
       "      <td>3</td>\n",
       "    </tr>\n",
       "    <tr>\n",
       "      <th>7</th>\n",
       "      <td>162</td>\n",
       "      <td>1.51934</td>\n",
       "      <td>13.64</td>\n",
       "      <td>3.54</td>\n",
       "      <td>0.75</td>\n",
       "      <td>72.65</td>\n",
       "      <td>0.16</td>\n",
       "      <td>8.89</td>\n",
       "      <td>0.15</td>\n",
       "      <td>0.24</td>\n",
       "      <td>3</td>\n",
       "    </tr>\n",
       "    <tr>\n",
       "      <th>8</th>\n",
       "      <td>163</td>\n",
       "      <td>1.52211</td>\n",
       "      <td>14.19</td>\n",
       "      <td>3.78</td>\n",
       "      <td>0.91</td>\n",
       "      <td>71.36</td>\n",
       "      <td>0.23</td>\n",
       "      <td>9.14</td>\n",
       "      <td>0.00</td>\n",
       "      <td>0.37</td>\n",
       "      <td>3</td>\n",
       "    </tr>\n",
       "    <tr>\n",
       "      <th>9</th>\n",
       "      <td>174</td>\n",
       "      <td>1.52043</td>\n",
       "      <td>13.38</td>\n",
       "      <td>0.00</td>\n",
       "      <td>1.40</td>\n",
       "      <td>72.25</td>\n",
       "      <td>0.33</td>\n",
       "      <td>12.50</td>\n",
       "      <td>0.00</td>\n",
       "      <td>0.00</td>\n",
       "      <td>5</td>\n",
       "    </tr>\n",
       "    <tr>\n",
       "      <th>10</th>\n",
       "      <td>175</td>\n",
       "      <td>1.52058</td>\n",
       "      <td>12.85</td>\n",
       "      <td>1.61</td>\n",
       "      <td>2.17</td>\n",
       "      <td>72.18</td>\n",
       "      <td>0.76</td>\n",
       "      <td>9.70</td>\n",
       "      <td>0.24</td>\n",
       "      <td>0.51</td>\n",
       "      <td>5</td>\n",
       "    </tr>\n",
       "    <tr>\n",
       "      <th>11</th>\n",
       "      <td>176</td>\n",
       "      <td>1.52119</td>\n",
       "      <td>12.97</td>\n",
       "      <td>0.33</td>\n",
       "      <td>1.51</td>\n",
       "      <td>73.39</td>\n",
       "      <td>0.13</td>\n",
       "      <td>11.27</td>\n",
       "      <td>0.00</td>\n",
       "      <td>0.28</td>\n",
       "      <td>5</td>\n",
       "    </tr>\n",
       "    <tr>\n",
       "      <th>12</th>\n",
       "      <td>183</td>\n",
       "      <td>1.51916</td>\n",
       "      <td>14.15</td>\n",
       "      <td>0.00</td>\n",
       "      <td>2.09</td>\n",
       "      <td>72.74</td>\n",
       "      <td>0.00</td>\n",
       "      <td>10.88</td>\n",
       "      <td>0.00</td>\n",
       "      <td>0.00</td>\n",
       "      <td>6</td>\n",
       "    </tr>\n",
       "    <tr>\n",
       "      <th>13</th>\n",
       "      <td>184</td>\n",
       "      <td>1.51969</td>\n",
       "      <td>14.56</td>\n",
       "      <td>0.00</td>\n",
       "      <td>0.56</td>\n",
       "      <td>73.48</td>\n",
       "      <td>0.00</td>\n",
       "      <td>11.22</td>\n",
       "      <td>0.00</td>\n",
       "      <td>0.00</td>\n",
       "      <td>6</td>\n",
       "    </tr>\n",
       "    <tr>\n",
       "      <th>14</th>\n",
       "      <td>185</td>\n",
       "      <td>1.51115</td>\n",
       "      <td>17.38</td>\n",
       "      <td>0.00</td>\n",
       "      <td>0.34</td>\n",
       "      <td>75.41</td>\n",
       "      <td>0.00</td>\n",
       "      <td>6.65</td>\n",
       "      <td>0.00</td>\n",
       "      <td>0.00</td>\n",
       "      <td>6</td>\n",
       "    </tr>\n",
       "    <tr>\n",
       "      <th>15</th>\n",
       "      <td>212</td>\n",
       "      <td>1.52065</td>\n",
       "      <td>14.36</td>\n",
       "      <td>0.00</td>\n",
       "      <td>2.02</td>\n",
       "      <td>73.42</td>\n",
       "      <td>0.00</td>\n",
       "      <td>8.44</td>\n",
       "      <td>1.64</td>\n",
       "      <td>0.00</td>\n",
       "      <td>7</td>\n",
       "    </tr>\n",
       "    <tr>\n",
       "      <th>16</th>\n",
       "      <td>213</td>\n",
       "      <td>1.51651</td>\n",
       "      <td>14.38</td>\n",
       "      <td>0.00</td>\n",
       "      <td>1.94</td>\n",
       "      <td>73.61</td>\n",
       "      <td>0.00</td>\n",
       "      <td>8.48</td>\n",
       "      <td>1.57</td>\n",
       "      <td>0.00</td>\n",
       "      <td>7</td>\n",
       "    </tr>\n",
       "    <tr>\n",
       "      <th>17</th>\n",
       "      <td>214</td>\n",
       "      <td>1.51711</td>\n",
       "      <td>14.23</td>\n",
       "      <td>0.00</td>\n",
       "      <td>2.08</td>\n",
       "      <td>73.36</td>\n",
       "      <td>0.00</td>\n",
       "      <td>8.62</td>\n",
       "      <td>1.67</td>\n",
       "      <td>0.00</td>\n",
       "      <td>7</td>\n",
       "    </tr>\n",
       "  </tbody>\n",
       "</table>\n",
       "</div>"
      ],
      "text/plain": [
       "     ID       RI     Na    Mg    Al     Si     K     Ca    Ba    Fe  \\\n",
       "0    68  1.52152  13.05  3.65  0.87  72.32  0.19   9.85  0.00  0.17   \n",
       "1    69  1.52152  13.12  3.58  0.90  72.20  0.23   9.82  0.00  0.16   \n",
       "2    70  1.52300  13.31  3.58  0.82  71.99  0.12  10.17  0.00  0.03   \n",
       "3   144  1.51709  13.00  3.47  1.79  72.72  0.66   8.18  0.00  0.00   \n",
       "4   145  1.51660  12.99  3.18  1.23  72.97  0.58   8.81  0.00  0.24   \n",
       "5   146  1.51839  12.85  3.67  1.24  72.57  0.62   8.68  0.00  0.35   \n",
       "6   161  1.51832  13.33  3.34  1.54  72.14  0.56   8.99  0.00  0.00   \n",
       "7   162  1.51934  13.64  3.54  0.75  72.65  0.16   8.89  0.15  0.24   \n",
       "8   163  1.52211  14.19  3.78  0.91  71.36  0.23   9.14  0.00  0.37   \n",
       "9   174  1.52043  13.38  0.00  1.40  72.25  0.33  12.50  0.00  0.00   \n",
       "10  175  1.52058  12.85  1.61  2.17  72.18  0.76   9.70  0.24  0.51   \n",
       "11  176  1.52119  12.97  0.33  1.51  73.39  0.13  11.27  0.00  0.28   \n",
       "12  183  1.51916  14.15  0.00  2.09  72.74  0.00  10.88  0.00  0.00   \n",
       "13  184  1.51969  14.56  0.00  0.56  73.48  0.00  11.22  0.00  0.00   \n",
       "14  185  1.51115  17.38  0.00  0.34  75.41  0.00   6.65  0.00  0.00   \n",
       "15  212  1.52065  14.36  0.00  2.02  73.42  0.00   8.44  1.64  0.00   \n",
       "16  213  1.51651  14.38  0.00  1.94  73.61  0.00   8.48  1.57  0.00   \n",
       "17  214  1.51711  14.23  0.00  2.08  73.36  0.00   8.62  1.67  0.00   \n",
       "\n",
       "    Type of glass  \n",
       "0               1  \n",
       "1               1  \n",
       "2               1  \n",
       "3               2  \n",
       "4               2  \n",
       "5               2  \n",
       "6               3  \n",
       "7               3  \n",
       "8               3  \n",
       "9               5  \n",
       "10              5  \n",
       "11              5  \n",
       "12              6  \n",
       "13              6  \n",
       "14              6  \n",
       "15              7  \n",
       "16              7  \n",
       "17              7  "
      ]
     },
     "execution_count": 6,
     "metadata": {},
     "output_type": "execute_result"
    }
   ],
   "source": [
    "test_data"
   ]
  },
  {
   "cell_type": "markdown",
   "id": "1eccd111",
   "metadata": {},
   "source": [
    "# Data Preprocessing"
   ]
  },
  {
   "cell_type": "code",
   "execution_count": 7,
   "id": "8f912559",
   "metadata": {},
   "outputs": [
    {
     "data": {
      "text/plain": [
       "ID               0\n",
       "RI               0\n",
       "Na               0\n",
       "Mg               0\n",
       "Al               0\n",
       "Si               0\n",
       "K                0\n",
       "Ca               0\n",
       "Ba               0\n",
       "Fe               0\n",
       "Type of glass    0\n",
       "dtype: int64"
      ]
     },
     "execution_count": 7,
     "metadata": {},
     "output_type": "execute_result"
    }
   ],
   "source": [
    "train_data.isnull().sum()"
   ]
  },
  {
   "cell_type": "code",
   "execution_count": 8,
   "id": "db864bf1",
   "metadata": {},
   "outputs": [
    {
     "data": {
      "text/plain": [
       "ID                 int64\n",
       "RI               float64\n",
       "Na               float64\n",
       "Mg               float64\n",
       "Al               float64\n",
       "Si               float64\n",
       "K                float64\n",
       "Ca               float64\n",
       "Ba               float64\n",
       "Fe               float64\n",
       "Type of glass      int64\n",
       "dtype: object"
      ]
     },
     "execution_count": 8,
     "metadata": {},
     "output_type": "execute_result"
    }
   ],
   "source": [
    "train_data.dtypes"
   ]
  },
  {
   "cell_type": "code",
   "execution_count": 9,
   "id": "872f9e74",
   "metadata": {},
   "outputs": [
    {
     "data": {
      "text/html": [
       "<div>\n",
       "<style scoped>\n",
       "    .dataframe tbody tr th:only-of-type {\n",
       "        vertical-align: middle;\n",
       "    }\n",
       "\n",
       "    .dataframe tbody tr th {\n",
       "        vertical-align: top;\n",
       "    }\n",
       "\n",
       "    .dataframe thead th {\n",
       "        text-align: right;\n",
       "    }\n",
       "</style>\n",
       "<table border=\"1\" class=\"dataframe\">\n",
       "  <thead>\n",
       "    <tr style=\"text-align: right;\">\n",
       "      <th></th>\n",
       "      <th>ID</th>\n",
       "      <th>RI</th>\n",
       "      <th>Na</th>\n",
       "      <th>Mg</th>\n",
       "      <th>Al</th>\n",
       "      <th>Si</th>\n",
       "      <th>K</th>\n",
       "      <th>Ca</th>\n",
       "      <th>Ba</th>\n",
       "      <th>Fe</th>\n",
       "      <th>Type of glass</th>\n",
       "    </tr>\n",
       "  </thead>\n",
       "  <tbody>\n",
       "    <tr>\n",
       "      <th>count</th>\n",
       "      <td>196.000000</td>\n",
       "      <td>196.000000</td>\n",
       "      <td>196.000000</td>\n",
       "      <td>196.000000</td>\n",
       "      <td>196.000000</td>\n",
       "      <td>196.000000</td>\n",
       "      <td>196.000000</td>\n",
       "      <td>196.000000</td>\n",
       "      <td>196.000000</td>\n",
       "      <td>196.000000</td>\n",
       "      <td>196.000000</td>\n",
       "    </tr>\n",
       "    <tr>\n",
       "      <th>mean</th>\n",
       "      <td>102.862245</td>\n",
       "      <td>1.518295</td>\n",
       "      <td>13.375204</td>\n",
       "      <td>2.758980</td>\n",
       "      <td>1.454337</td>\n",
       "      <td>72.635408</td>\n",
       "      <td>0.519388</td>\n",
       "      <td>8.910714</td>\n",
       "      <td>0.164235</td>\n",
       "      <td>0.050255</td>\n",
       "      <td>2.668367</td>\n",
       "    </tr>\n",
       "    <tr>\n",
       "      <th>std</th>\n",
       "      <td>61.195663</td>\n",
       "      <td>0.003055</td>\n",
       "      <td>0.783145</td>\n",
       "      <td>1.392641</td>\n",
       "      <td>0.491688</td>\n",
       "      <td>0.763578</td>\n",
       "      <td>0.672703</td>\n",
       "      <td>1.421490</td>\n",
       "      <td>0.485198</td>\n",
       "      <td>0.086359</td>\n",
       "      <td>2.062416</td>\n",
       "    </tr>\n",
       "    <tr>\n",
       "      <th>min</th>\n",
       "      <td>1.000000</td>\n",
       "      <td>1.511310</td>\n",
       "      <td>10.730000</td>\n",
       "      <td>0.000000</td>\n",
       "      <td>0.290000</td>\n",
       "      <td>69.810000</td>\n",
       "      <td>0.000000</td>\n",
       "      <td>5.430000</td>\n",
       "      <td>0.000000</td>\n",
       "      <td>0.000000</td>\n",
       "      <td>1.000000</td>\n",
       "    </tr>\n",
       "    <tr>\n",
       "      <th>25%</th>\n",
       "      <td>49.750000</td>\n",
       "      <td>1.516458</td>\n",
       "      <td>12.877500</td>\n",
       "      <td>2.362500</td>\n",
       "      <td>1.190000</td>\n",
       "      <td>72.317500</td>\n",
       "      <td>0.140000</td>\n",
       "      <td>8.220000</td>\n",
       "      <td>0.000000</td>\n",
       "      <td>0.000000</td>\n",
       "      <td>1.000000</td>\n",
       "    </tr>\n",
       "    <tr>\n",
       "      <th>50%</th>\n",
       "      <td>101.500000</td>\n",
       "      <td>1.517630</td>\n",
       "      <td>13.280000</td>\n",
       "      <td>3.480000</td>\n",
       "      <td>1.360000</td>\n",
       "      <td>72.810000</td>\n",
       "      <td>0.560000</td>\n",
       "      <td>8.575000</td>\n",
       "      <td>0.000000</td>\n",
       "      <td>0.000000</td>\n",
       "      <td>2.000000</td>\n",
       "    </tr>\n",
       "    <tr>\n",
       "      <th>75%</th>\n",
       "      <td>153.250000</td>\n",
       "      <td>1.518985</td>\n",
       "      <td>13.792500</td>\n",
       "      <td>3.610000</td>\n",
       "      <td>1.622500</td>\n",
       "      <td>73.080000</td>\n",
       "      <td>0.610000</td>\n",
       "      <td>9.092500</td>\n",
       "      <td>0.000000</td>\n",
       "      <td>0.090000</td>\n",
       "      <td>3.000000</td>\n",
       "    </tr>\n",
       "    <tr>\n",
       "      <th>max</th>\n",
       "      <td>211.000000</td>\n",
       "      <td>1.533930</td>\n",
       "      <td>15.790000</td>\n",
       "      <td>4.490000</td>\n",
       "      <td>3.500000</td>\n",
       "      <td>75.180000</td>\n",
       "      <td>6.210000</td>\n",
       "      <td>16.190000</td>\n",
       "      <td>3.150000</td>\n",
       "      <td>0.340000</td>\n",
       "      <td>7.000000</td>\n",
       "    </tr>\n",
       "  </tbody>\n",
       "</table>\n",
       "</div>"
      ],
      "text/plain": [
       "               ID          RI          Na          Mg          Al          Si  \\\n",
       "count  196.000000  196.000000  196.000000  196.000000  196.000000  196.000000   \n",
       "mean   102.862245    1.518295   13.375204    2.758980    1.454337   72.635408   \n",
       "std     61.195663    0.003055    0.783145    1.392641    0.491688    0.763578   \n",
       "min      1.000000    1.511310   10.730000    0.000000    0.290000   69.810000   \n",
       "25%     49.750000    1.516458   12.877500    2.362500    1.190000   72.317500   \n",
       "50%    101.500000    1.517630   13.280000    3.480000    1.360000   72.810000   \n",
       "75%    153.250000    1.518985   13.792500    3.610000    1.622500   73.080000   \n",
       "max    211.000000    1.533930   15.790000    4.490000    3.500000   75.180000   \n",
       "\n",
       "                K          Ca          Ba          Fe  Type of glass  \n",
       "count  196.000000  196.000000  196.000000  196.000000     196.000000  \n",
       "mean     0.519388    8.910714    0.164235    0.050255       2.668367  \n",
       "std      0.672703    1.421490    0.485198    0.086359       2.062416  \n",
       "min      0.000000    5.430000    0.000000    0.000000       1.000000  \n",
       "25%      0.140000    8.220000    0.000000    0.000000       1.000000  \n",
       "50%      0.560000    8.575000    0.000000    0.000000       2.000000  \n",
       "75%      0.610000    9.092500    0.000000    0.090000       3.000000  \n",
       "max      6.210000   16.190000    3.150000    0.340000       7.000000  "
      ]
     },
     "execution_count": 9,
     "metadata": {},
     "output_type": "execute_result"
    }
   ],
   "source": [
    "train_data.describe()"
   ]
  },
  {
   "cell_type": "code",
   "execution_count": 10,
   "id": "3b53abd3",
   "metadata": {},
   "outputs": [
    {
     "data": {
      "text/plain": [
       "(2.27125, 0.5412499999999998)"
      ]
     },
     "execution_count": 10,
     "metadata": {},
     "output_type": "execute_result"
    }
   ],
   "source": [
    "IQR = train_data.Al.quantile(0.75) - train_data.Al.quantile(0.25)\n",
    "UL = train_data.Al.quantile(0.75) + 1.5*IQR\n",
    "LL = train_data.Al.quantile(0.25) - 1.5*IQR\n",
    "UL,LL"
   ]
  },
  {
   "cell_type": "code",
   "execution_count": 11,
   "id": "9922b353",
   "metadata": {},
   "outputs": [
    {
     "data": {
      "text/plain": [
       "(1.315, -0.565)"
      ]
     },
     "execution_count": 11,
     "metadata": {},
     "output_type": "execute_result"
    }
   ],
   "source": [
    "IQR = train_data.K.quantile(0.75) - train_data.K.quantile(0.25)\n",
    "UL = train_data.K.quantile(0.75) + 1.5*IQR\n",
    "LL = train_data.K.quantile(0.25) - 1.5*IQR\n",
    "UL,LL"
   ]
  },
  {
   "cell_type": "code",
   "execution_count": 12,
   "id": "c7265b8a",
   "metadata": {},
   "outputs": [
    {
     "data": {
      "text/plain": [
       "(10.401250000000001, 6.91125)"
      ]
     },
     "execution_count": 12,
     "metadata": {},
     "output_type": "execute_result"
    }
   ],
   "source": [
    "IQR = train_data.Ca.quantile(0.75) - train_data.Ca.quantile(0.25)\n",
    "UL = train_data.Ca.quantile(0.75) + 1.5*IQR\n",
    "LL = train_data.Ca.quantile(0.25) - 1.5*IQR\n",
    "UL,LL"
   ]
  },
  {
   "cell_type": "code",
   "execution_count": 13,
   "id": "740ad2e6",
   "metadata": {},
   "outputs": [
    {
     "data": {
      "text/plain": [
       "(0.225, -0.135)"
      ]
     },
     "execution_count": 13,
     "metadata": {},
     "output_type": "execute_result"
    }
   ],
   "source": [
    "IQR = train_data.Fe.quantile(0.75) - train_data.Fe.quantile(0.25)\n",
    "UL = train_data.Fe.quantile(0.75) + 1.5*IQR\n",
    "LL = train_data.Fe.quantile(0.25) - 1.5*IQR\n",
    "UL,LL"
   ]
  },
  {
   "cell_type": "code",
   "execution_count": 14,
   "id": "5b69caf6",
   "metadata": {},
   "outputs": [
    {
     "data": {
      "text/html": [
       "<div>\n",
       "<style scoped>\n",
       "    .dataframe tbody tr th:only-of-type {\n",
       "        vertical-align: middle;\n",
       "    }\n",
       "\n",
       "    .dataframe tbody tr th {\n",
       "        vertical-align: top;\n",
       "    }\n",
       "\n",
       "    .dataframe thead th {\n",
       "        text-align: right;\n",
       "    }\n",
       "</style>\n",
       "<table border=\"1\" class=\"dataframe\">\n",
       "  <thead>\n",
       "    <tr style=\"text-align: right;\">\n",
       "      <th></th>\n",
       "      <th>ID</th>\n",
       "      <th>RI</th>\n",
       "      <th>Na</th>\n",
       "      <th>Mg</th>\n",
       "      <th>Al</th>\n",
       "      <th>Si</th>\n",
       "      <th>K</th>\n",
       "      <th>Ca</th>\n",
       "      <th>Ba</th>\n",
       "      <th>Fe</th>\n",
       "      <th>Type of glass</th>\n",
       "    </tr>\n",
       "  </thead>\n",
       "  <tbody>\n",
       "    <tr>\n",
       "      <th>count</th>\n",
       "      <td>196.000000</td>\n",
       "      <td>196.000000</td>\n",
       "      <td>196.000000</td>\n",
       "      <td>196.000000</td>\n",
       "      <td>196.000000</td>\n",
       "      <td>196.000000</td>\n",
       "      <td>196.000000</td>\n",
       "      <td>196.000000</td>\n",
       "      <td>196.000000</td>\n",
       "      <td>196.000000</td>\n",
       "      <td>196.000000</td>\n",
       "    </tr>\n",
       "    <tr>\n",
       "      <th>mean</th>\n",
       "      <td>102.862245</td>\n",
       "      <td>1.518295</td>\n",
       "      <td>13.375204</td>\n",
       "      <td>2.758980</td>\n",
       "      <td>1.454337</td>\n",
       "      <td>72.635408</td>\n",
       "      <td>0.519388</td>\n",
       "      <td>8.910714</td>\n",
       "      <td>0.164235</td>\n",
       "      <td>0.050255</td>\n",
       "      <td>2.668367</td>\n",
       "    </tr>\n",
       "    <tr>\n",
       "      <th>std</th>\n",
       "      <td>61.195663</td>\n",
       "      <td>0.003055</td>\n",
       "      <td>0.783145</td>\n",
       "      <td>1.392641</td>\n",
       "      <td>0.491688</td>\n",
       "      <td>0.763578</td>\n",
       "      <td>0.672703</td>\n",
       "      <td>1.421490</td>\n",
       "      <td>0.485198</td>\n",
       "      <td>0.086359</td>\n",
       "      <td>2.062416</td>\n",
       "    </tr>\n",
       "    <tr>\n",
       "      <th>min</th>\n",
       "      <td>1.000000</td>\n",
       "      <td>1.511310</td>\n",
       "      <td>10.730000</td>\n",
       "      <td>0.000000</td>\n",
       "      <td>0.290000</td>\n",
       "      <td>69.810000</td>\n",
       "      <td>0.000000</td>\n",
       "      <td>5.430000</td>\n",
       "      <td>0.000000</td>\n",
       "      <td>0.000000</td>\n",
       "      <td>1.000000</td>\n",
       "    </tr>\n",
       "    <tr>\n",
       "      <th>25%</th>\n",
       "      <td>49.750000</td>\n",
       "      <td>1.516458</td>\n",
       "      <td>12.877500</td>\n",
       "      <td>2.362500</td>\n",
       "      <td>1.190000</td>\n",
       "      <td>72.317500</td>\n",
       "      <td>0.140000</td>\n",
       "      <td>8.220000</td>\n",
       "      <td>0.000000</td>\n",
       "      <td>0.000000</td>\n",
       "      <td>1.000000</td>\n",
       "    </tr>\n",
       "    <tr>\n",
       "      <th>50%</th>\n",
       "      <td>101.500000</td>\n",
       "      <td>1.517630</td>\n",
       "      <td>13.280000</td>\n",
       "      <td>3.480000</td>\n",
       "      <td>1.360000</td>\n",
       "      <td>72.810000</td>\n",
       "      <td>0.560000</td>\n",
       "      <td>8.575000</td>\n",
       "      <td>0.000000</td>\n",
       "      <td>0.000000</td>\n",
       "      <td>2.000000</td>\n",
       "    </tr>\n",
       "    <tr>\n",
       "      <th>75%</th>\n",
       "      <td>153.250000</td>\n",
       "      <td>1.518985</td>\n",
       "      <td>13.792500</td>\n",
       "      <td>3.610000</td>\n",
       "      <td>1.622500</td>\n",
       "      <td>73.080000</td>\n",
       "      <td>0.610000</td>\n",
       "      <td>9.092500</td>\n",
       "      <td>0.000000</td>\n",
       "      <td>0.090000</td>\n",
       "      <td>3.000000</td>\n",
       "    </tr>\n",
       "    <tr>\n",
       "      <th>max</th>\n",
       "      <td>211.000000</td>\n",
       "      <td>1.533930</td>\n",
       "      <td>15.790000</td>\n",
       "      <td>4.490000</td>\n",
       "      <td>3.500000</td>\n",
       "      <td>75.180000</td>\n",
       "      <td>6.210000</td>\n",
       "      <td>16.190000</td>\n",
       "      <td>3.150000</td>\n",
       "      <td>0.340000</td>\n",
       "      <td>7.000000</td>\n",
       "    </tr>\n",
       "  </tbody>\n",
       "</table>\n",
       "</div>"
      ],
      "text/plain": [
       "               ID          RI          Na          Mg          Al          Si  \\\n",
       "count  196.000000  196.000000  196.000000  196.000000  196.000000  196.000000   \n",
       "mean   102.862245    1.518295   13.375204    2.758980    1.454337   72.635408   \n",
       "std     61.195663    0.003055    0.783145    1.392641    0.491688    0.763578   \n",
       "min      1.000000    1.511310   10.730000    0.000000    0.290000   69.810000   \n",
       "25%     49.750000    1.516458   12.877500    2.362500    1.190000   72.317500   \n",
       "50%    101.500000    1.517630   13.280000    3.480000    1.360000   72.810000   \n",
       "75%    153.250000    1.518985   13.792500    3.610000    1.622500   73.080000   \n",
       "max    211.000000    1.533930   15.790000    4.490000    3.500000   75.180000   \n",
       "\n",
       "                K          Ca          Ba          Fe  Type of glass  \n",
       "count  196.000000  196.000000  196.000000  196.000000     196.000000  \n",
       "mean     0.519388    8.910714    0.164235    0.050255       2.668367  \n",
       "std      0.672703    1.421490    0.485198    0.086359       2.062416  \n",
       "min      0.000000    5.430000    0.000000    0.000000       1.000000  \n",
       "25%      0.140000    8.220000    0.000000    0.000000       1.000000  \n",
       "50%      0.560000    8.575000    0.000000    0.000000       2.000000  \n",
       "75%      0.610000    9.092500    0.000000    0.090000       3.000000  \n",
       "max      6.210000   16.190000    3.150000    0.340000       7.000000  "
      ]
     },
     "execution_count": 14,
     "metadata": {},
     "output_type": "execute_result"
    }
   ],
   "source": [
    "train_data.describe()"
   ]
  },
  {
   "cell_type": "code",
   "execution_count": 15,
   "id": "4c8f5472",
   "metadata": {},
   "outputs": [
    {
     "data": {
      "text/plain": [
       "(196, 11)"
      ]
     },
     "execution_count": 15,
     "metadata": {},
     "output_type": "execute_result"
    }
   ],
   "source": [
    "train_data = train_data.drop_duplicates()\n",
    "train_data.shape"
   ]
  },
  {
   "cell_type": "code",
   "execution_count": 16,
   "id": "53e70191",
   "metadata": {},
   "outputs": [],
   "source": [
    "train_data = train_data.drop(\"ID\",axis=1)\n",
    "test_data = test_data.drop(\"ID\",axis=1)"
   ]
  },
  {
   "cell_type": "markdown",
   "id": "96e2ca03",
   "metadata": {},
   "source": [
    "# Train Test Dataset"
   ]
  },
  {
   "cell_type": "code",
   "execution_count": 17,
   "id": "bacd4dcd",
   "metadata": {},
   "outputs": [],
   "source": [
    "x_train = train_data.loc[:,[\"RI\",\"Na\",\"Mg\",\"Al\",\"Si\",\"K\",\"Ca\",\"Ba\",\"Fe\"]].values\n",
    "y_train = train_data.loc[:,\"Type of glass\"].values\n",
    "x_test = test_data.loc[:,[\"RI\",\"Na\",\"Mg\",\"Al\",\"Si\",\"K\",\"Ca\",\"Ba\",\"Fe\"]].values\n",
    "y_test = test_data.loc[:,\"Type of glass\"].values"
   ]
  },
  {
   "cell_type": "code",
   "execution_count": 18,
   "id": "a61efd86",
   "metadata": {},
   "outputs": [
    {
     "data": {
      "text/plain": [
       "array([[ 1.52101, 13.64   ,  4.49   , ...,  8.75   ,  0.     ,  0.     ],\n",
       "       [ 1.51761, 13.89   ,  3.6    , ...,  7.83   ,  0.     ,  0.     ],\n",
       "       [ 1.51618, 13.53   ,  3.55   , ...,  7.78   ,  0.     ,  0.     ],\n",
       "       ...,\n",
       "       [ 1.5164 , 14.37   ,  0.     , ...,  9.45   ,  0.54   ,  0.     ],\n",
       "       [ 1.51623, 14.14   ,  0.     , ...,  9.18   ,  1.06   ,  0.     ],\n",
       "       [ 1.51685, 14.92   ,  0.     , ...,  8.4    ,  1.59   ,  0.     ]])"
      ]
     },
     "execution_count": 18,
     "metadata": {},
     "output_type": "execute_result"
    }
   ],
   "source": [
    "x_train"
   ]
  },
  {
   "cell_type": "code",
   "execution_count": 19,
   "id": "18f08403",
   "metadata": {},
   "outputs": [
    {
     "data": {
      "text/plain": [
       "array([1, 1, 1, 1, 1, 1, 1, 1, 1, 1, 1, 1, 1, 1, 1, 1, 1, 1, 1, 1, 1, 1,\n",
       "       1, 1, 1, 1, 1, 1, 1, 1, 1, 1, 1, 1, 1, 1, 1, 1, 1, 1, 1, 1, 1, 1,\n",
       "       1, 1, 1, 1, 1, 1, 1, 1, 1, 1, 1, 1, 1, 1, 1, 1, 1, 1, 1, 1, 1, 1,\n",
       "       1, 2, 2, 2, 2, 2, 2, 2, 2, 2, 2, 2, 2, 2, 2, 2, 2, 2, 2, 2, 2, 2,\n",
       "       2, 2, 2, 2, 2, 2, 2, 2, 2, 2, 2, 2, 2, 2, 2, 2, 2, 2, 2, 2, 2, 2,\n",
       "       2, 2, 2, 2, 2, 2, 2, 2, 2, 2, 2, 2, 2, 2, 2, 2, 2, 2, 2, 2, 2, 2,\n",
       "       2, 2, 2, 2, 2, 2, 2, 2, 3, 3, 3, 3, 3, 3, 3, 3, 3, 3, 3, 3, 3, 3,\n",
       "       5, 5, 5, 5, 5, 5, 5, 5, 5, 5, 6, 6, 6, 6, 6, 6, 7, 7, 7, 7, 7, 7,\n",
       "       7, 7, 7, 7, 7, 7, 7, 7, 7, 7, 7, 7, 7, 7, 7, 7, 7, 7, 7, 7],\n",
       "      dtype=int64)"
      ]
     },
     "execution_count": 19,
     "metadata": {},
     "output_type": "execute_result"
    }
   ],
   "source": [
    "y_train"
   ]
  },
  {
   "cell_type": "code",
   "execution_count": 20,
   "id": "7ebdee21",
   "metadata": {},
   "outputs": [
    {
     "data": {
      "text/plain": [
       "array([[1.52152e+00, 1.30500e+01, 3.65000e+00, 8.70000e-01, 7.23200e+01,\n",
       "        1.90000e-01, 9.85000e+00, 0.00000e+00, 1.70000e-01],\n",
       "       [1.52152e+00, 1.31200e+01, 3.58000e+00, 9.00000e-01, 7.22000e+01,\n",
       "        2.30000e-01, 9.82000e+00, 0.00000e+00, 1.60000e-01],\n",
       "       [1.52300e+00, 1.33100e+01, 3.58000e+00, 8.20000e-01, 7.19900e+01,\n",
       "        1.20000e-01, 1.01700e+01, 0.00000e+00, 3.00000e-02],\n",
       "       [1.51709e+00, 1.30000e+01, 3.47000e+00, 1.79000e+00, 7.27200e+01,\n",
       "        6.60000e-01, 8.18000e+00, 0.00000e+00, 0.00000e+00],\n",
       "       [1.51660e+00, 1.29900e+01, 3.18000e+00, 1.23000e+00, 7.29700e+01,\n",
       "        5.80000e-01, 8.81000e+00, 0.00000e+00, 2.40000e-01],\n",
       "       [1.51839e+00, 1.28500e+01, 3.67000e+00, 1.24000e+00, 7.25700e+01,\n",
       "        6.20000e-01, 8.68000e+00, 0.00000e+00, 3.50000e-01],\n",
       "       [1.51832e+00, 1.33300e+01, 3.34000e+00, 1.54000e+00, 7.21400e+01,\n",
       "        5.60000e-01, 8.99000e+00, 0.00000e+00, 0.00000e+00],\n",
       "       [1.51934e+00, 1.36400e+01, 3.54000e+00, 7.50000e-01, 7.26500e+01,\n",
       "        1.60000e-01, 8.89000e+00, 1.50000e-01, 2.40000e-01],\n",
       "       [1.52211e+00, 1.41900e+01, 3.78000e+00, 9.10000e-01, 7.13600e+01,\n",
       "        2.30000e-01, 9.14000e+00, 0.00000e+00, 3.70000e-01],\n",
       "       [1.52043e+00, 1.33800e+01, 0.00000e+00, 1.40000e+00, 7.22500e+01,\n",
       "        3.30000e-01, 1.25000e+01, 0.00000e+00, 0.00000e+00],\n",
       "       [1.52058e+00, 1.28500e+01, 1.61000e+00, 2.17000e+00, 7.21800e+01,\n",
       "        7.60000e-01, 9.70000e+00, 2.40000e-01, 5.10000e-01],\n",
       "       [1.52119e+00, 1.29700e+01, 3.30000e-01, 1.51000e+00, 7.33900e+01,\n",
       "        1.30000e-01, 1.12700e+01, 0.00000e+00, 2.80000e-01],\n",
       "       [1.51916e+00, 1.41500e+01, 0.00000e+00, 2.09000e+00, 7.27400e+01,\n",
       "        0.00000e+00, 1.08800e+01, 0.00000e+00, 0.00000e+00],\n",
       "       [1.51969e+00, 1.45600e+01, 0.00000e+00, 5.60000e-01, 7.34800e+01,\n",
       "        0.00000e+00, 1.12200e+01, 0.00000e+00, 0.00000e+00],\n",
       "       [1.51115e+00, 1.73800e+01, 0.00000e+00, 3.40000e-01, 7.54100e+01,\n",
       "        0.00000e+00, 6.65000e+00, 0.00000e+00, 0.00000e+00],\n",
       "       [1.52065e+00, 1.43600e+01, 0.00000e+00, 2.02000e+00, 7.34200e+01,\n",
       "        0.00000e+00, 8.44000e+00, 1.64000e+00, 0.00000e+00],\n",
       "       [1.51651e+00, 1.43800e+01, 0.00000e+00, 1.94000e+00, 7.36100e+01,\n",
       "        0.00000e+00, 8.48000e+00, 1.57000e+00, 0.00000e+00],\n",
       "       [1.51711e+00, 1.42300e+01, 0.00000e+00, 2.08000e+00, 7.33600e+01,\n",
       "        0.00000e+00, 8.62000e+00, 1.67000e+00, 0.00000e+00]])"
      ]
     },
     "execution_count": 20,
     "metadata": {},
     "output_type": "execute_result"
    }
   ],
   "source": [
    "x_test"
   ]
  },
  {
   "cell_type": "code",
   "execution_count": 21,
   "id": "599e4a16",
   "metadata": {},
   "outputs": [
    {
     "data": {
      "text/plain": [
       "array([1, 1, 1, 2, 2, 2, 3, 3, 3, 5, 5, 5, 6, 6, 6, 7, 7, 7], dtype=int64)"
      ]
     },
     "execution_count": 21,
     "metadata": {},
     "output_type": "execute_result"
    }
   ],
   "source": [
    "y_test"
   ]
  },
  {
   "cell_type": "markdown",
   "id": "a027f368",
   "metadata": {},
   "source": [
    "# Scaling of Dataset"
   ]
  },
  {
   "cell_type": "code",
   "execution_count": 22,
   "id": "4e8e6238",
   "metadata": {},
   "outputs": [],
   "source": [
    "from sklearn.preprocessing import StandardScaler\n",
    "scaler=StandardScaler()\n",
    "x_train_scaled = scaler.fit_transform(x_train)\n",
    "x_test_scaled = scaler.transform(x_test)"
   ]
  },
  {
   "cell_type": "code",
   "execution_count": 23,
   "id": "e4307713",
   "metadata": {},
   "outputs": [
    {
     "data": {
      "text/plain": [
       "array([[ 0.89081203,  0.3389847 ,  1.24616006, ..., -0.11334995,\n",
       "        -0.33935667, -0.5834224 ],\n",
       "       [-0.22479561,  0.65902807,  0.60544985, ..., -0.76221546,\n",
       "        -0.33935667, -0.5834224 ],\n",
       "       [-0.69400706,  0.19816562,  0.56945489, ..., -0.79747989,\n",
       "        -0.33935667, -0.5834224 ],\n",
       "       ...,\n",
       "       [-0.62182068,  1.27351132, -1.98618697, ...,  0.38035207,\n",
       "         0.77644048, -0.5834224 ],\n",
       "       [-0.67760106,  0.97907143, -1.98618697, ...,  0.18992414,\n",
       "         1.8509118 , -0.5834224 ],\n",
       "       [-0.47416673,  1.97760672, -1.98618697, ..., -0.36020096,\n",
       "         2.94604604, -0.5834224 ]])"
      ]
     },
     "execution_count": 23,
     "metadata": {},
     "output_type": "execute_result"
    }
   ],
   "source": [
    "x_train_scaled"
   ]
  },
  {
   "cell_type": "code",
   "execution_count": 24,
   "id": "0eb03a95",
   "metadata": {},
   "outputs": [
    {
     "data": {
      "text/plain": [
       "array([[ 1.05815318, -0.41631763,  0.6414448 , -1.19147352, -0.41412376,\n",
       "        -0.49090172,  0.66246751, -0.33935667,  1.39014453],\n",
       "       [ 1.05815318, -0.32670549,  0.59105186, -1.13030296, -0.57168104,\n",
       "        -0.43128788,  0.64130885, -0.33935667,  1.27405236],\n",
       "       [ 1.54377062, -0.08347253,  0.59105186, -1.29342446, -0.84740628,\n",
       "        -0.59522593,  0.88815986, -0.33935667, -0.23514588],\n",
       "       [-0.39541795, -0.4803263 ,  0.51186296,  0.68442367,  0.11106716,\n",
       "         0.20956089, -0.51536445, -0.33935667, -0.5834224 ],\n",
       "       [-0.5561967 , -0.49312804,  0.30309222, -0.4574268 ,  0.43931149,\n",
       "         0.09033322, -0.07103264, -0.33935667,  2.20278974],\n",
       "       [ 0.03113791, -0.67235232,  0.65584279, -0.43703661, -0.08587943,\n",
       "         0.14994705, -0.16272016, -0.33935667,  3.47980364],\n",
       "       [ 0.00816952, -0.05786907,  0.41827608,  0.174669  , -0.65045968,\n",
       "         0.0605263 ,  0.05591931, -0.33935667, -0.5834224 ],\n",
       "       [ 0.34285181,  0.3389847 ,  0.5622559 , -1.43615577,  0.01915875,\n",
       "        -0.5356121 , -0.01460955, -0.02941302,  2.20278974],\n",
       "       [ 1.25174392,  1.0430801 ,  0.73503169, -1.10991278, -1.67458199,\n",
       "        -0.43128788,  0.1617126 , -0.33935667,  3.71198798],\n",
       "       [ 0.70050249,  0.00613961, -1.98618697, -0.11079362, -0.50603218,\n",
       "        -0.28225328,  2.53148229, -0.33935667, -0.5834224 ],\n",
       "       [ 0.74972048, -0.67235232, -0.82714939,  1.45925077, -0.59794059,\n",
       "         0.35859549,  0.55667422,  0.15655317,  5.3372784 ],\n",
       "       [ 0.94987361, -0.51873151, -1.74862026,  0.11349844,  0.99076197,\n",
       "        -0.58032247,  1.66397732, -0.33935667,  2.66715843],\n",
       "       [ 0.28379023,  0.99187316, -1.98618697,  1.29612928,  0.13732671,\n",
       "        -0.77406745,  1.38891476, -0.33935667, -0.5834224 ],\n",
       "       [ 0.45769377,  1.51674428, -1.98618697, -1.82356932,  1.10892993,\n",
       "        -0.77406745,  1.62871289, -0.33935667, -0.5834224 ],\n",
       "       [-2.34445013,  5.1268334 , -1.98618697, -2.27215343,  3.64297615,\n",
       "        -0.77406745, -1.59445601, -0.33935667, -0.5834224 ],\n",
       "       [ 0.77268887,  1.26070959, -1.98618697,  1.15339797,  1.03015129,\n",
       "        -0.77406745, -0.33198942,  3.04936059, -0.5834224 ],\n",
       "       [-0.58572749,  1.28631306, -1.98618697,  0.99027648,  1.27961698,\n",
       "        -0.77406745, -0.30377787,  2.90472022, -0.5834224 ],\n",
       "       [-0.38885556,  1.09428704, -1.98618697,  1.27573909,  0.95137265,\n",
       "        -0.77406745, -0.20503747,  3.11134932, -0.5834224 ]])"
      ]
     },
     "execution_count": 24,
     "metadata": {},
     "output_type": "execute_result"
    }
   ],
   "source": [
    "x_test_scaled"
   ]
  },
  {
   "cell_type": "markdown",
   "id": "18c3d970",
   "metadata": {},
   "source": [
    "# Hyperparameter Tuning"
   ]
  },
  {
   "cell_type": "code",
   "execution_count": 25,
   "id": "c1625c71",
   "metadata": {},
   "outputs": [
    {
     "name": "stdout",
     "output_type": "stream",
     "text": [
      "K-Value: 1  Accuracy :  1.0 CV Score :  0.6678947368421053\n",
      "K-Value: 2  Accuracy :  0.8418367346938775 CV Score :  0.7194736842105264\n",
      "K-Value: 3  Accuracy :  0.8520408163265306 CV Score :  0.6834210526315789\n",
      "K-Value: 4  Accuracy :  0.7959183673469388 CV Score :  0.6892105263157895\n",
      "K-Value: 5  Accuracy :  0.8010204081632653 CV Score :  0.6786842105263158\n",
      "K-Value: 6  Accuracy :  0.7806122448979592 CV Score :  0.6786842105263158\n",
      "K-Value: 7  Accuracy :  0.7346938775510204 CV Score :  0.653157894736842\n",
      "K-Value: 8  Accuracy :  0.7551020408163265 CV Score :  0.6634210526315789\n",
      "K-Value: 9  Accuracy :  0.7244897959183674 CV Score :  0.6526315789473685\n",
      "K-Value: 10  Accuracy :  0.7142857142857143 CV Score :  0.6581578947368422\n",
      "K-Value: 20  Accuracy :  0.6938775510204082 CV Score :  0.5813157894736843\n",
      "K-Value: 30  Accuracy :  0.6428571428571429 CV Score :  0.5865789473684211\n",
      "K-Value: 40  Accuracy :  0.6173469387755102 CV Score :  0.5810526315789474\n",
      "K-Value: 50  Accuracy :  0.6224489795918368 CV Score :  0.5060526315789473\n",
      "K-Value: 60  Accuracy :  0.5051020408163265 CV Score :  0.4697368421052632\n"
     ]
    }
   ],
   "source": [
    "from sklearn.model_selection import cross_val_score\n",
    "from sklearn.neighbors import KNeighborsClassifier\n",
    "for k in [1,2,3,4,5,6,7,8,9,10,20,30,40,50,60]:\n",
    "    KNN = KNeighborsClassifier(n_neighbors=k) \n",
    "    KNN.fit(x_train_scaled, y_train)\n",
    "    print(\"K-Value:\",k, \" Accuracy : \",KNN.score(x_train_scaled,y_train), \"CV Score : \",np.mean(cross_val_score(KNN, x_train_scaled, y_train, cv=10)))"
   ]
  },
  {
   "cell_type": "markdown",
   "id": "400f4a9a",
   "metadata": {},
   "source": [
    "# KNN Model using Euclidean Distance Metric"
   ]
  },
  {
   "cell_type": "code",
   "execution_count": 26,
   "id": "c2d9d528",
   "metadata": {},
   "outputs": [
    {
     "data": {
      "text/plain": [
       "0.4444444444444444"
      ]
     },
     "execution_count": 26,
     "metadata": {},
     "output_type": "execute_result"
    }
   ],
   "source": [
    "KNN = KNeighborsClassifier(n_neighbors=2) \n",
    "KNN.fit(x_train_scaled, y_train)\n",
    "KNN.score(x_test_scaled, y_test)"
   ]
  },
  {
   "cell_type": "code",
   "execution_count": 27,
   "id": "7069d596",
   "metadata": {},
   "outputs": [],
   "source": [
    "y_pred = KNN.predict(x_test_scaled)"
   ]
  },
  {
   "cell_type": "code",
   "execution_count": 28,
   "id": "70c3217d",
   "metadata": {},
   "outputs": [
    {
     "data": {
      "text/plain": [
       "array([[3, 0, 0, 0, 0, 0],\n",
       "       [2, 1, 0, 0, 0, 0],\n",
       "       [0, 3, 0, 0, 0, 0],\n",
       "       [1, 2, 0, 0, 0, 0],\n",
       "       [0, 1, 0, 1, 1, 0],\n",
       "       [0, 0, 0, 0, 0, 3]], dtype=int64)"
      ]
     },
     "execution_count": 28,
     "metadata": {},
     "output_type": "execute_result"
    }
   ],
   "source": [
    "from sklearn.metrics import confusion_matrix\n",
    "confusion_matrix(y_test, y_pred)"
   ]
  },
  {
   "cell_type": "code",
   "execution_count": 29,
   "id": "9362b598",
   "metadata": {},
   "outputs": [
    {
     "data": {
      "text/plain": [
       "0.8074074074074074"
      ]
     },
     "execution_count": 29,
     "metadata": {},
     "output_type": "execute_result"
    }
   ],
   "source": [
    "from sklearn.metrics import roc_auc_score\n",
    "predict_proba = KNN.predict_proba(x_test_scaled)\n",
    "roc_auc_score(y_test, predict_proba, multi_class=\"ovo\")"
   ]
  },
  {
   "cell_type": "markdown",
   "id": "7cc493ba",
   "metadata": {},
   "source": [
    "# KNN Model using Manhattan Distance Metric"
   ]
  },
  {
   "cell_type": "code",
   "execution_count": 30,
   "id": "5d5ff1de",
   "metadata": {},
   "outputs": [
    {
     "data": {
      "text/plain": [
       "0.4444444444444444"
      ]
     },
     "execution_count": 30,
     "metadata": {},
     "output_type": "execute_result"
    }
   ],
   "source": [
    "KNN_M = KNeighborsClassifier(n_neighbors=2, metric=\"manhattan\") \n",
    "KNN_M.fit(x_train_scaled, y_train)\n",
    "KNN_M.score(x_test_scaled, y_test)"
   ]
  },
  {
   "cell_type": "code",
   "execution_count": 31,
   "id": "42ba8be6",
   "metadata": {},
   "outputs": [],
   "source": [
    "predict_proba_M = KNN_M.predict_proba(x_test_scaled)"
   ]
  },
  {
   "cell_type": "code",
   "execution_count": 32,
   "id": "6b2e8d0a",
   "metadata": {},
   "outputs": [],
   "source": [
    "y_pred_M = KNN_M.predict(x_test_scaled)"
   ]
  },
  {
   "cell_type": "code",
   "execution_count": 33,
   "id": "80de96c6",
   "metadata": {},
   "outputs": [
    {
     "data": {
      "text/plain": [
       "array([[3, 0, 0, 0, 0, 0],\n",
       "       [2, 1, 0, 0, 0, 0],\n",
       "       [2, 1, 0, 0, 0, 0],\n",
       "       [0, 2, 0, 1, 0, 0],\n",
       "       [0, 2, 0, 1, 0, 0],\n",
       "       [0, 0, 0, 0, 0, 3]], dtype=int64)"
      ]
     },
     "execution_count": 33,
     "metadata": {},
     "output_type": "execute_result"
    }
   ],
   "source": [
    "confusion_matrix(y_test, y_pred_M)"
   ]
  },
  {
   "cell_type": "code",
   "execution_count": 34,
   "id": "77f64249",
   "metadata": {},
   "outputs": [
    {
     "data": {
      "text/plain": [
       "0.8462962962962962"
      ]
     },
     "execution_count": 34,
     "metadata": {},
     "output_type": "execute_result"
    }
   ],
   "source": [
    "roc_auc_score(y_test, predict_proba_M, multi_class=\"ovr\")"
   ]
  },
  {
   "cell_type": "markdown",
   "id": "db25a637",
   "metadata": {},
   "source": [
    "# Scikit Classification Report "
   ]
  },
  {
   "cell_type": "code",
   "execution_count": 35,
   "id": "43d38c2d",
   "metadata": {},
   "outputs": [
    {
     "name": "stdout",
     "output_type": "stream",
     "text": [
      "              precision    recall  f1-score   support\n",
      "\n",
      "           1       0.50      1.00      0.67         3\n",
      "           2       0.14      0.33      0.20         3\n",
      "           3       0.00      0.00      0.00         3\n",
      "           5       0.00      0.00      0.00         3\n",
      "           6       1.00      0.33      0.50         3\n",
      "           7       1.00      1.00      1.00         3\n",
      "\n",
      "    accuracy                           0.44        18\n",
      "   macro avg       0.44      0.44      0.39        18\n",
      "weighted avg       0.44      0.44      0.39        18\n",
      "\n"
     ]
    }
   ],
   "source": [
    "from sklearn.metrics import classification_report\n",
    "report = classification_report(y_test,y_pred)\n",
    "print(report)"
   ]
  },
  {
   "cell_type": "code",
   "execution_count": 36,
   "id": "ed32aaf6",
   "metadata": {
    "scrolled": true
   },
   "outputs": [
    {
     "name": "stdout",
     "output_type": "stream",
     "text": [
      "              precision    recall  f1-score   support\n",
      "\n",
      "           1       0.43      1.00      0.60         3\n",
      "           2       0.17      0.33      0.22         3\n",
      "           3       0.00      0.00      0.00         3\n",
      "           5       0.50      0.33      0.40         3\n",
      "           6       0.00      0.00      0.00         3\n",
      "           7       1.00      1.00      1.00         3\n",
      "\n",
      "    accuracy                           0.44        18\n",
      "   macro avg       0.35      0.44      0.37        18\n",
      "weighted avg       0.35      0.44      0.37        18\n",
      "\n"
     ]
    }
   ],
   "source": [
    "from sklearn.metrics import classification_report\n",
    "report_M = classification_report(y_test,y_pred_M)\n",
    "print(report_M)"
   ]
  }
 ],
 "metadata": {
  "kernelspec": {
   "display_name": "pandas_venv",
   "language": "python",
   "name": "pandas_venv"
  },
  "language_info": {
   "codemirror_mode": {
    "name": "ipython",
    "version": 3
   },
   "file_extension": ".py",
   "mimetype": "text/x-python",
   "name": "python",
   "nbconvert_exporter": "python",
   "pygments_lexer": "ipython3",
   "version": "3.10.7"
  }
 },
 "nbformat": 4,
 "nbformat_minor": 5
}
