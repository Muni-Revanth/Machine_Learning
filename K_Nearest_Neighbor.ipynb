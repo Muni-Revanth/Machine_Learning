{
 "cells": [
  {
   "cell_type": "markdown",
   "id": "0e4a2266",
   "metadata": {},
   "source": [
    "# Social Network Ads"
   ]
  },
  {
   "cell_type": "markdown",
   "id": "77dc280a",
   "metadata": {},
   "source": [
    "This dataset contains information of users in a social network. Those informations are the user id the gender the age and the estimated salary. A car company has just launched their brand new luxury SUV. And we're trying to see which of these users of the social network are going to buy this brand new SUV And the last column here tells If yes or no the user bought this SUV we are going to build a model that is going to predict if a user is going to buy or not the SUV based on two variables which are going to be the age and the estimated salary. So our matrix of feature is only going to be these two columns. We want to find some correlations between the age and the estimated salary of a user and his decision to purchase yes or no the SUV."
   ]
  },
  {
   "cell_type": "markdown",
   "id": "4a5ecc31",
   "metadata": {},
   "source": [
    "## Importing the libraries "
   ]
  },
  {
   "cell_type": "code",
   "execution_count": 1,
   "id": "67adaf50",
   "metadata": {},
   "outputs": [],
   "source": [
    "import pandas as pd\n",
    "import numpy as np\n",
    "import matplotlib.pyplot as plt\n",
    "import seaborn as sns"
   ]
  },
  {
   "cell_type": "markdown",
   "id": "a7e614b1",
   "metadata": {},
   "source": [
    "## Importing the Dataset"
   ]
  },
  {
   "cell_type": "code",
   "execution_count": 2,
   "id": "95d360bb",
   "metadata": {},
   "outputs": [],
   "source": [
    "df = pd.read_csv(\"R:\\\\GUVI\\\\Tasks\\\\Task-7\\\\Logistic Regression\\\\Social_Network_Ads.csv\")"
   ]
  },
  {
   "cell_type": "code",
   "execution_count": 3,
   "id": "166852c8",
   "metadata": {},
   "outputs": [
    {
     "data": {
      "text/html": [
       "<div>\n",
       "<style scoped>\n",
       "    .dataframe tbody tr th:only-of-type {\n",
       "        vertical-align: middle;\n",
       "    }\n",
       "\n",
       "    .dataframe tbody tr th {\n",
       "        vertical-align: top;\n",
       "    }\n",
       "\n",
       "    .dataframe thead th {\n",
       "        text-align: right;\n",
       "    }\n",
       "</style>\n",
       "<table border=\"1\" class=\"dataframe\">\n",
       "  <thead>\n",
       "    <tr style=\"text-align: right;\">\n",
       "      <th></th>\n",
       "      <th>User ID</th>\n",
       "      <th>Gender</th>\n",
       "      <th>Age</th>\n",
       "      <th>EstimatedSalary</th>\n",
       "      <th>Purchased</th>\n",
       "    </tr>\n",
       "  </thead>\n",
       "  <tbody>\n",
       "    <tr>\n",
       "      <th>0</th>\n",
       "      <td>15624510</td>\n",
       "      <td>Male</td>\n",
       "      <td>19</td>\n",
       "      <td>19000</td>\n",
       "      <td>0</td>\n",
       "    </tr>\n",
       "    <tr>\n",
       "      <th>1</th>\n",
       "      <td>15810944</td>\n",
       "      <td>Male</td>\n",
       "      <td>35</td>\n",
       "      <td>20000</td>\n",
       "      <td>0</td>\n",
       "    </tr>\n",
       "    <tr>\n",
       "      <th>2</th>\n",
       "      <td>15668575</td>\n",
       "      <td>Female</td>\n",
       "      <td>26</td>\n",
       "      <td>43000</td>\n",
       "      <td>0</td>\n",
       "    </tr>\n",
       "    <tr>\n",
       "      <th>3</th>\n",
       "      <td>15603246</td>\n",
       "      <td>Female</td>\n",
       "      <td>27</td>\n",
       "      <td>57000</td>\n",
       "      <td>0</td>\n",
       "    </tr>\n",
       "    <tr>\n",
       "      <th>4</th>\n",
       "      <td>15804002</td>\n",
       "      <td>Male</td>\n",
       "      <td>19</td>\n",
       "      <td>76000</td>\n",
       "      <td>0</td>\n",
       "    </tr>\n",
       "  </tbody>\n",
       "</table>\n",
       "</div>"
      ],
      "text/plain": [
       "    User ID  Gender  Age  EstimatedSalary  Purchased\n",
       "0  15624510    Male   19            19000          0\n",
       "1  15810944    Male   35            20000          0\n",
       "2  15668575  Female   26            43000          0\n",
       "3  15603246  Female   27            57000          0\n",
       "4  15804002    Male   19            76000          0"
      ]
     },
     "execution_count": 3,
     "metadata": {},
     "output_type": "execute_result"
    }
   ],
   "source": [
    "df.head()"
   ]
  },
  {
   "cell_type": "markdown",
   "id": "a4de3186",
   "metadata": {},
   "source": [
    "## Data Preprocessing "
   ]
  },
  {
   "cell_type": "code",
   "execution_count": 4,
   "id": "03a0cd33",
   "metadata": {
    "scrolled": true
   },
   "outputs": [
    {
     "data": {
      "text/plain": [
       "User ID            0\n",
       "Gender             0\n",
       "Age                0\n",
       "EstimatedSalary    0\n",
       "Purchased          0\n",
       "dtype: int64"
      ]
     },
     "execution_count": 4,
     "metadata": {},
     "output_type": "execute_result"
    }
   ],
   "source": [
    "df.isnull().sum()"
   ]
  },
  {
   "cell_type": "code",
   "execution_count": 5,
   "id": "2c70ae4a",
   "metadata": {},
   "outputs": [
    {
     "data": {
      "text/plain": [
       "User ID             int64\n",
       "Gender             object\n",
       "Age                 int64\n",
       "EstimatedSalary     int64\n",
       "Purchased           int64\n",
       "dtype: object"
      ]
     },
     "execution_count": 5,
     "metadata": {},
     "output_type": "execute_result"
    }
   ],
   "source": [
    "df.dtypes"
   ]
  },
  {
   "cell_type": "code",
   "execution_count": 6,
   "id": "daa6153e",
   "metadata": {},
   "outputs": [
    {
     "data": {
      "text/html": [
       "<div>\n",
       "<style scoped>\n",
       "    .dataframe tbody tr th:only-of-type {\n",
       "        vertical-align: middle;\n",
       "    }\n",
       "\n",
       "    .dataframe tbody tr th {\n",
       "        vertical-align: top;\n",
       "    }\n",
       "\n",
       "    .dataframe thead th {\n",
       "        text-align: right;\n",
       "    }\n",
       "</style>\n",
       "<table border=\"1\" class=\"dataframe\">\n",
       "  <thead>\n",
       "    <tr style=\"text-align: right;\">\n",
       "      <th></th>\n",
       "      <th>User ID</th>\n",
       "      <th>Age</th>\n",
       "      <th>EstimatedSalary</th>\n",
       "      <th>Purchased</th>\n",
       "    </tr>\n",
       "  </thead>\n",
       "  <tbody>\n",
       "    <tr>\n",
       "      <th>count</th>\n",
       "      <td>4.000000e+02</td>\n",
       "      <td>400.000000</td>\n",
       "      <td>400.000000</td>\n",
       "      <td>400.000000</td>\n",
       "    </tr>\n",
       "    <tr>\n",
       "      <th>mean</th>\n",
       "      <td>1.569154e+07</td>\n",
       "      <td>37.655000</td>\n",
       "      <td>69742.500000</td>\n",
       "      <td>0.357500</td>\n",
       "    </tr>\n",
       "    <tr>\n",
       "      <th>std</th>\n",
       "      <td>7.165832e+04</td>\n",
       "      <td>10.482877</td>\n",
       "      <td>34096.960282</td>\n",
       "      <td>0.479864</td>\n",
       "    </tr>\n",
       "    <tr>\n",
       "      <th>min</th>\n",
       "      <td>1.556669e+07</td>\n",
       "      <td>18.000000</td>\n",
       "      <td>15000.000000</td>\n",
       "      <td>0.000000</td>\n",
       "    </tr>\n",
       "    <tr>\n",
       "      <th>25%</th>\n",
       "      <td>1.562676e+07</td>\n",
       "      <td>29.750000</td>\n",
       "      <td>43000.000000</td>\n",
       "      <td>0.000000</td>\n",
       "    </tr>\n",
       "    <tr>\n",
       "      <th>50%</th>\n",
       "      <td>1.569434e+07</td>\n",
       "      <td>37.000000</td>\n",
       "      <td>70000.000000</td>\n",
       "      <td>0.000000</td>\n",
       "    </tr>\n",
       "    <tr>\n",
       "      <th>75%</th>\n",
       "      <td>1.575036e+07</td>\n",
       "      <td>46.000000</td>\n",
       "      <td>88000.000000</td>\n",
       "      <td>1.000000</td>\n",
       "    </tr>\n",
       "    <tr>\n",
       "      <th>max</th>\n",
       "      <td>1.581524e+07</td>\n",
       "      <td>60.000000</td>\n",
       "      <td>150000.000000</td>\n",
       "      <td>1.000000</td>\n",
       "    </tr>\n",
       "  </tbody>\n",
       "</table>\n",
       "</div>"
      ],
      "text/plain": [
       "            User ID         Age  EstimatedSalary   Purchased\n",
       "count  4.000000e+02  400.000000       400.000000  400.000000\n",
       "mean   1.569154e+07   37.655000     69742.500000    0.357500\n",
       "std    7.165832e+04   10.482877     34096.960282    0.479864\n",
       "min    1.556669e+07   18.000000     15000.000000    0.000000\n",
       "25%    1.562676e+07   29.750000     43000.000000    0.000000\n",
       "50%    1.569434e+07   37.000000     70000.000000    0.000000\n",
       "75%    1.575036e+07   46.000000     88000.000000    1.000000\n",
       "max    1.581524e+07   60.000000    150000.000000    1.000000"
      ]
     },
     "execution_count": 6,
     "metadata": {},
     "output_type": "execute_result"
    }
   ],
   "source": [
    "df.describe()"
   ]
  },
  {
   "cell_type": "code",
   "execution_count": 7,
   "id": "18eb58ed",
   "metadata": {},
   "outputs": [],
   "source": [
    "df = df.drop_duplicates()"
   ]
  },
  {
   "cell_type": "code",
   "execution_count": 8,
   "id": "5d3403ef",
   "metadata": {},
   "outputs": [],
   "source": [
    "df = df.drop(\"User ID\",axis=1)"
   ]
  },
  {
   "cell_type": "code",
   "execution_count": 9,
   "id": "7f3612bc",
   "metadata": {},
   "outputs": [],
   "source": [
    "from sklearn.preprocessing import LabelEncoder\n",
    "LE = LabelEncoder()\n",
    "df.Gender = LE.fit_transform(df.Gender)"
   ]
  },
  {
   "cell_type": "markdown",
   "id": "2c333c09",
   "metadata": {},
   "source": [
    "## Splitting the dataset into training and test set "
   ]
  },
  {
   "cell_type": "code",
   "execution_count": 10,
   "id": "c1b55a84",
   "metadata": {},
   "outputs": [],
   "source": [
    "x = df.loc[:,[\"Gender\",\"Age\", \"EstimatedSalary\"]].values\n",
    "y = df.loc[:,\"Purchased\"].values"
   ]
  },
  {
   "cell_type": "code",
   "execution_count": 11,
   "id": "ffb9fbca",
   "metadata": {},
   "outputs": [],
   "source": [
    "from sklearn.model_selection import train_test_split\n",
    "x_train, x_test, y_train, y_test = train_test_split(x,y,test_size=0.3)"
   ]
  },
  {
   "cell_type": "code",
   "execution_count": 12,
   "id": "66e6ab3a",
   "metadata": {
    "scrolled": true
   },
   "outputs": [
    {
     "data": {
      "text/plain": [
       "array([[     1,     46, 117000],\n",
       "       [     0,     50,  44000],\n",
       "       [     0,     47,  30000],\n",
       "       [     1,     40,  57000],\n",
       "       [     0,     58,  95000],\n",
       "       [     0,     46,  74000],\n",
       "       [     1,     30, 107000],\n",
       "       [     0,     29,  47000],\n",
       "       [     1,     39,  71000],\n",
       "       [     0,     27,  96000],\n",
       "       [     0,     26,  43000],\n",
       "       [     1,     60,  83000],\n",
       "       [     1,     42,  73000],\n",
       "       [     1,     42,  64000],\n",
       "       [     1,     37, 144000],\n",
       "       [     0,     32,  86000],\n",
       "       [     0,     26, 118000],\n",
       "       [     0,     28,  87000],\n",
       "       [     0,     37,  57000],\n",
       "       [     0,     52, 138000],\n",
       "       [     1,     27,  90000],\n",
       "       [     0,     57, 122000],\n",
       "       [     1,     60,  34000],\n",
       "       [     0,     36,  63000],\n",
       "       [     1,     41,  87000],\n",
       "       [     0,     48, 131000],\n",
       "       [     1,     36,  60000],\n",
       "       [     1,     28,  89000],\n",
       "       [     0,     60,  46000],\n",
       "       [     1,     35,  50000],\n",
       "       [     0,     38,  80000],\n",
       "       [     1,     27,  20000],\n",
       "       [     0,     53, 104000],\n",
       "       [     0,     44,  39000],\n",
       "       [     0,     48, 138000],\n",
       "       [     0,     37,  62000],\n",
       "       [     1,     35,  58000],\n",
       "       [     1,     31,  76000],\n",
       "       [     0,     33, 113000],\n",
       "       [     0,     27,  17000],\n",
       "       [     0,     20,  82000],\n",
       "       [     1,     39,  96000],\n",
       "       [     0,     21,  16000],\n",
       "       [     0,     35,  23000],\n",
       "       [     1,     26,  30000],\n",
       "       [     1,     47,  25000],\n",
       "       [     0,     27,  31000],\n",
       "       [     0,     18,  86000],\n",
       "       [     0,     49,  36000],\n",
       "       [     0,     26,  84000],\n",
       "       [     1,     54,  70000],\n",
       "       [     0,     32, 150000],\n",
       "       [     1,     35,  75000],\n",
       "       [     0,     42,  90000],\n",
       "       [     1,     19,  19000],\n",
       "       [     1,     31,  18000],\n",
       "       [     1,     24,  58000],\n",
       "       [     1,     38,  61000],\n",
       "       [     0,     39,  75000],\n",
       "       [     0,     37,  71000],\n",
       "       [     0,     42,  80000],\n",
       "       [     1,     41,  45000],\n",
       "       [     0,     30,  62000],\n",
       "       [     1,     23,  20000],\n",
       "       [     1,     49,  88000],\n",
       "       [     0,     48,  29000],\n",
       "       [     0,     20,  82000],\n",
       "       [     1,     39, 122000],\n",
       "       [     1,     39, 134000],\n",
       "       [     0,     47,  51000],\n",
       "       [     0,     31,  68000],\n",
       "       [     1,     45,  22000],\n",
       "       [     1,     40,  65000],\n",
       "       [     1,     21,  88000],\n",
       "       [     1,     39,  42000],\n",
       "       [     1,     40,  57000],\n",
       "       [     0,     35,  50000],\n",
       "       [     0,     48, 134000],\n",
       "       [     1,     35,  38000],\n",
       "       [     1,     55,  39000],\n",
       "       [     1,     47,  34000],\n",
       "       [     1,     35,  55000],\n",
       "       [     1,     27,  88000],\n",
       "       [     0,     35,  60000],\n",
       "       [     0,     37,  33000],\n",
       "       [     0,     36,  54000],\n",
       "       [     0,     26,  15000],\n",
       "       [     0,     20,  36000],\n",
       "       [     0,     37,  78000],\n",
       "       [     1,     38,  71000],\n",
       "       [     1,     48,  33000],\n",
       "       [     0,     23,  28000],\n",
       "       [     0,     38, 112000],\n",
       "       [     0,     27,  57000],\n",
       "       [     1,     35,  73000],\n",
       "       [     0,     59,  88000],\n",
       "       [     1,     28,  32000],\n",
       "       [     0,     23,  48000],\n",
       "       [     0,     46,  22000],\n",
       "       [     1,     53,  72000],\n",
       "       [     0,     42,  75000],\n",
       "       [     0,     41,  71000],\n",
       "       [     1,     31,  74000],\n",
       "       [     1,     40,  78000],\n",
       "       [     0,     37,  93000],\n",
       "       [     0,     45,  45000],\n",
       "       [     1,     36, 118000],\n",
       "       [     1,     57,  60000],\n",
       "       [     1,     52, 150000],\n",
       "       [     0,     36, 126000],\n",
       "       [     1,     26,  32000],\n",
       "       [     1,     26,  80000],\n",
       "       [     1,     28, 123000],\n",
       "       [     0,     56, 104000],\n",
       "       [     0,     45, 131000],\n",
       "       [     0,     46,  96000],\n",
       "       [     0,     24,  89000],\n",
       "       [     0,     38,  50000],\n",
       "       [     0,     50,  88000],\n",
       "       [     1,     46,  23000],\n",
       "       [     1,     32, 120000],\n",
       "       [     1,     59, 143000],\n",
       "       [     1,     30,  87000],\n",
       "       [     1,     37,  55000],\n",
       "       [     1,     35,  72000],\n",
       "       [     0,     22,  55000],\n",
       "       [     1,     47,  23000],\n",
       "       [     1,     30,  80000],\n",
       "       [     1,     35,  91000],\n",
       "       [     0,     38, 113000],\n",
       "       [     0,     43, 133000],\n",
       "       [     0,     47, 144000],\n",
       "       [     1,     29,  43000],\n",
       "       [     0,     27,  58000],\n",
       "       [     1,     36,  33000],\n",
       "       [     0,     29,  83000],\n",
       "       [     0,     42, 108000],\n",
       "       [     1,     19,  25000],\n",
       "       [     0,     30,  79000],\n",
       "       [     1,     38,  71000],\n",
       "       [     0,     47,  47000],\n",
       "       [     0,     41,  51000],\n",
       "       [     1,     35,  61000],\n",
       "       [     0,     54, 108000],\n",
       "       [     0,     57,  26000],\n",
       "       [     0,     27, 137000],\n",
       "       [     0,     18,  44000],\n",
       "       [     1,     60,  42000],\n",
       "       [     0,     22,  27000],\n",
       "       [     1,     28,  79000],\n",
       "       [     0,     43, 112000],\n",
       "       [     1,     48,  90000],\n",
       "       [     0,     59,  42000],\n",
       "       [     0,     35,  47000],\n",
       "       [     0,     33,  41000],\n",
       "       [     1,     26,  86000],\n",
       "       [     0,     45,  22000],\n",
       "       [     0,     27,  54000],\n",
       "       [     0,     24,  27000],\n",
       "       [     0,     24,  32000],\n",
       "       [     0,     32, 117000],\n",
       "       [     0,     34,  72000],\n",
       "       [     0,     47, 107000],\n",
       "       [     0,     59,  83000],\n",
       "       [     0,     47, 113000],\n",
       "       [     1,     36, 125000],\n",
       "       [     1,     25,  80000],\n",
       "       [     0,     26,  80000],\n",
       "       [     0,     37,  80000],\n",
       "       [     0,     40,  72000],\n",
       "       [     0,     52, 114000],\n",
       "       [     1,     48,  74000],\n",
       "       [     0,     59,  29000],\n",
       "       [     1,     42,  65000],\n",
       "       [     1,     47,  20000],\n",
       "       [     1,     46,  28000],\n",
       "       [     0,     29,  28000],\n",
       "       [     0,     28,  37000],\n",
       "       [     0,     42,  53000],\n",
       "       [     1,     35,  22000],\n",
       "       [     1,     49,  28000],\n",
       "       [     1,     33,  31000],\n",
       "       [     1,     39,  77000],\n",
       "       [     1,     29,  80000],\n",
       "       [     1,     24,  19000],\n",
       "       [     0,     51, 146000],\n",
       "       [     1,     19,  76000],\n",
       "       [     1,     18,  52000],\n",
       "       [     0,     24,  55000],\n",
       "       [     1,     29, 148000],\n",
       "       [     1,     42,  80000],\n",
       "       [     0,     35,  72000],\n",
       "       [     0,     52,  21000],\n",
       "       [     1,     36,  99000],\n",
       "       [     1,     39,  42000],\n",
       "       [     1,     37,  52000],\n",
       "       [     0,     32, 135000],\n",
       "       [     1,     47,  43000],\n",
       "       [     0,     58,  47000],\n",
       "       [     1,     40,  57000],\n",
       "       [     1,     20,  49000],\n",
       "       [     0,     35,  25000],\n",
       "       [     0,     48,  35000],\n",
       "       [     1,     35,  53000],\n",
       "       [     1,     37,  74000],\n",
       "       [     0,     51, 134000],\n",
       "       [     1,     40,  75000],\n",
       "       [     1,     25,  87000],\n",
       "       [     1,     37,  75000],\n",
       "       [     0,     26,  35000],\n",
       "       [     0,     33, 149000],\n",
       "       [     1,     47, 105000],\n",
       "       [     0,     59,  76000],\n",
       "       [     0,     42,  70000],\n",
       "       [     0,     28,  59000],\n",
       "       [     1,     40,  61000],\n",
       "       [     0,     37, 146000],\n",
       "       [     1,     29,  75000],\n",
       "       [     1,     20,  74000],\n",
       "       [     0,     38,  50000],\n",
       "       [     1,     35,  59000],\n",
       "       [     1,     36,  52000],\n",
       "       [     1,     51,  23000],\n",
       "       [     1,     46,  79000],\n",
       "       [     1,     46,  88000],\n",
       "       [     0,     58,  38000],\n",
       "       [     0,     41,  72000],\n",
       "       [     0,     42,  79000],\n",
       "       [     0,     20,  23000],\n",
       "       [     1,     30,  17000],\n",
       "       [     1,     60,  42000],\n",
       "       [     0,     35,  65000],\n",
       "       [     1,     20,  86000],\n",
       "       [     1,     42,  54000],\n",
       "       [     0,     46,  41000],\n",
       "       [     0,     48,  96000],\n",
       "       [     0,     58, 101000],\n",
       "       [     0,     35,  97000],\n",
       "       [     0,     21,  68000],\n",
       "       [     1,     42,  54000],\n",
       "       [     1,     49,  65000],\n",
       "       [     0,     47,  50000],\n",
       "       [     0,     48, 119000],\n",
       "       [     1,     49,  28000],\n",
       "       [     1,     42,  65000],\n",
       "       [     1,     30, 135000],\n",
       "       [     1,     31,  58000],\n",
       "       [     1,     33,  43000],\n",
       "       [     0,     31, 118000],\n",
       "       [     1,     35, 108000],\n",
       "       [     0,     34,  25000],\n",
       "       [     0,     35, 147000],\n",
       "       [     0,     35,  77000],\n",
       "       [     1,     58, 144000],\n",
       "       [     0,     22,  63000],\n",
       "       [     0,     26,  72000],\n",
       "       [     0,     35,  44000],\n",
       "       [     1,     40,  59000],\n",
       "       [     0,     34,  43000],\n",
       "       [     0,     35,  57000],\n",
       "       [     1,     40,  71000],\n",
       "       [     0,     41,  30000],\n",
       "       [     0,     58,  23000],\n",
       "       [     0,     37, 137000],\n",
       "       [     0,     57,  33000],\n",
       "       [     1,     21,  72000],\n",
       "       [     1,     37,  79000],\n",
       "       [     0,     60, 108000],\n",
       "       [     1,     19,  70000],\n",
       "       [     1,     56,  60000],\n",
       "       [     0,     55, 125000],\n",
       "       [     0,     52,  90000],\n",
       "       [     1,     25,  79000],\n",
       "       [     1,     28,  59000],\n",
       "       [     1,     48, 141000],\n",
       "       [     1,     25,  33000],\n",
       "       [     0,     28,  84000],\n",
       "       [     0,     30, 116000],\n",
       "       [     1,     27,  58000],\n",
       "       [     1,     32,  18000]], dtype=int64)"
      ]
     },
     "execution_count": 12,
     "metadata": {},
     "output_type": "execute_result"
    }
   ],
   "source": [
    "x_train"
   ]
  },
  {
   "cell_type": "markdown",
   "id": "0c74c8f0",
   "metadata": {},
   "source": [
    "## Feature Scaling"
   ]
  },
  {
   "cell_type": "code",
   "execution_count": 13,
   "id": "cbeb2d20",
   "metadata": {},
   "outputs": [],
   "source": [
    "from sklearn.preprocessing import StandardScaler\n",
    "scaler = StandardScaler()\n",
    "scaler.fit(x_train)\n",
    "x_train = scaler.transform(x_train)\n",
    "x_test = scaler.transform(x_test)"
   ]
  },
  {
   "cell_type": "markdown",
   "id": "cefd9356",
   "metadata": {},
   "source": [
    "## Hyper-parameter Tuning"
   ]
  },
  {
   "cell_type": "code",
   "execution_count": 14,
   "id": "064405c5",
   "metadata": {},
   "outputs": [
    {
     "name": "stdout",
     "output_type": "stream",
     "text": [
      "K-Value: 1 Accuracy: 0.8916666666666667 AUROC Score: 0.8642857142857142\n",
      "K-Value: 2 Accuracy: 0.9166666666666666 AUROC Score: 0.8071428571428572\n",
      "K-Value: 3 Accuracy: 0.9333333333333333 AUROC Score: 0.8678571428571429\n",
      "K-Value: 4 Accuracy: 0.9583333333333334 AUROC Score: 0.8678571428571429\n",
      "K-Value: 5 Accuracy: 0.95 AUROC Score: 0.8857142857142858\n",
      "K-Value: 6 Accuracy: 0.95 AUROC Score: 0.8607142857142858\n",
      "K-Value: 7 Accuracy: 0.9416666666666667 AUROC Score: 0.8785714285714287\n",
      "K-Value: 8 Accuracy: 0.95 AUROC Score: 0.875\n",
      "K-Value: 9 Accuracy: 0.95 AUROC Score: 0.8857142857142858\n",
      "K-Value: 10 Accuracy: 0.95 AUROC Score: 0.875\n",
      "K-Value: 20 Accuracy: 0.9416666666666667 AUROC Score: 0.8392857142857142\n",
      "K-Value: 30 Accuracy: 0.9083333333333333 AUROC Score: 0.7964285714285714\n",
      "K-Value: 60 Accuracy: 0.8166666666666667 AUROC Score: 0.7642857142857142\n"
     ]
    }
   ],
   "source": [
    "for i in [1,2,3,4,5,6,7,8,9,10,20,30,60]:\n",
    "    from sklearn.neighbors import KNeighborsClassifier\n",
    "    knn = KNeighborsClassifier(n_neighbors=i)\n",
    "    knn.fit(x_train, y_train)\n",
    "    from sklearn.model_selection import cross_val_score\n",
    "    print(\"K-Value:\",i,\"Accuracy:\", knn.score(x_test, y_test), \"AUROC Score:\", np.mean(cross_val_score(knn, x_train, y_train, cv=10)))"
   ]
  },
  {
   "cell_type": "markdown",
   "id": "b13abccd",
   "metadata": {},
   "source": [
    "## Fitting K-NN to the training set "
   ]
  },
  {
   "cell_type": "code",
   "execution_count": 15,
   "id": "f93fc5b5",
   "metadata": {},
   "outputs": [
    {
     "data": {
      "text/plain": [
       "0.95"
      ]
     },
     "execution_count": 15,
     "metadata": {},
     "output_type": "execute_result"
    }
   ],
   "source": [
    "knn = KNeighborsClassifier(n_neighbors=8)\n",
    "knn.fit(x_train, y_train)\n",
    "knn.score(x_test, y_test)"
   ]
  },
  {
   "cell_type": "markdown",
   "id": "3360985b",
   "metadata": {},
   "source": [
    "## Predicting the Test set results "
   ]
  },
  {
   "cell_type": "code",
   "execution_count": 16,
   "id": "de1712ae",
   "metadata": {},
   "outputs": [],
   "source": [
    "y_pred = knn.predict(x_test)"
   ]
  },
  {
   "cell_type": "code",
   "execution_count": 17,
   "id": "50140cd5",
   "metadata": {},
   "outputs": [
    {
     "data": {
      "text/html": [
       "<div>\n",
       "<style scoped>\n",
       "    .dataframe tbody tr th:only-of-type {\n",
       "        vertical-align: middle;\n",
       "    }\n",
       "\n",
       "    .dataframe tbody tr th {\n",
       "        vertical-align: top;\n",
       "    }\n",
       "\n",
       "    .dataframe thead th {\n",
       "        text-align: right;\n",
       "    }\n",
       "</style>\n",
       "<table border=\"1\" class=\"dataframe\">\n",
       "  <thead>\n",
       "    <tr style=\"text-align: right;\">\n",
       "      <th></th>\n",
       "      <th>act</th>\n",
       "      <th>pre</th>\n",
       "    </tr>\n",
       "  </thead>\n",
       "  <tbody>\n",
       "    <tr>\n",
       "      <th>0</th>\n",
       "      <td>0</td>\n",
       "      <td>0</td>\n",
       "    </tr>\n",
       "    <tr>\n",
       "      <th>1</th>\n",
       "      <td>0</td>\n",
       "      <td>0</td>\n",
       "    </tr>\n",
       "    <tr>\n",
       "      <th>2</th>\n",
       "      <td>1</td>\n",
       "      <td>1</td>\n",
       "    </tr>\n",
       "    <tr>\n",
       "      <th>3</th>\n",
       "      <td>0</td>\n",
       "      <td>0</td>\n",
       "    </tr>\n",
       "    <tr>\n",
       "      <th>4</th>\n",
       "      <td>1</td>\n",
       "      <td>1</td>\n",
       "    </tr>\n",
       "    <tr>\n",
       "      <th>...</th>\n",
       "      <td>...</td>\n",
       "      <td>...</td>\n",
       "    </tr>\n",
       "    <tr>\n",
       "      <th>115</th>\n",
       "      <td>0</td>\n",
       "      <td>1</td>\n",
       "    </tr>\n",
       "    <tr>\n",
       "      <th>116</th>\n",
       "      <td>0</td>\n",
       "      <td>0</td>\n",
       "    </tr>\n",
       "    <tr>\n",
       "      <th>117</th>\n",
       "      <td>1</td>\n",
       "      <td>1</td>\n",
       "    </tr>\n",
       "    <tr>\n",
       "      <th>118</th>\n",
       "      <td>0</td>\n",
       "      <td>0</td>\n",
       "    </tr>\n",
       "    <tr>\n",
       "      <th>119</th>\n",
       "      <td>0</td>\n",
       "      <td>0</td>\n",
       "    </tr>\n",
       "  </tbody>\n",
       "</table>\n",
       "<p>120 rows × 2 columns</p>\n",
       "</div>"
      ],
      "text/plain": [
       "     act  pre\n",
       "0      0    0\n",
       "1      0    0\n",
       "2      1    1\n",
       "3      0    0\n",
       "4      1    1\n",
       "..   ...  ...\n",
       "115    0    1\n",
       "116    0    0\n",
       "117    1    1\n",
       "118    0    0\n",
       "119    0    0\n",
       "\n",
       "[120 rows x 2 columns]"
      ]
     },
     "execution_count": 17,
     "metadata": {},
     "output_type": "execute_result"
    }
   ],
   "source": [
    "pd.DataFrame({\"act\":y_test, \"pre\":y_pred})"
   ]
  },
  {
   "cell_type": "markdown",
   "id": "54fe9488",
   "metadata": {},
   "source": [
    "## Making the Confusion Matrix "
   ]
  },
  {
   "cell_type": "code",
   "execution_count": 18,
   "id": "48154563",
   "metadata": {},
   "outputs": [
    {
     "data": {
      "text/plain": [
       "array([[80,  4],\n",
       "       [ 2, 34]], dtype=int64)"
      ]
     },
     "execution_count": 18,
     "metadata": {},
     "output_type": "execute_result"
    }
   ],
   "source": [
    "from sklearn.metrics import confusion_matrix\n",
    "confusion_matrix(y_test, y_pred)"
   ]
  }
 ],
 "metadata": {
  "kernelspec": {
   "display_name": "pandas_venv",
   "language": "python",
   "name": "pandas_venv"
  },
  "language_info": {
   "codemirror_mode": {
    "name": "ipython",
    "version": 3
   },
   "file_extension": ".py",
   "mimetype": "text/x-python",
   "name": "python",
   "nbconvert_exporter": "python",
   "pygments_lexer": "ipython3",
   "version": "3.10.7"
  }
 },
 "nbformat": 4,
 "nbformat_minor": 5
}
